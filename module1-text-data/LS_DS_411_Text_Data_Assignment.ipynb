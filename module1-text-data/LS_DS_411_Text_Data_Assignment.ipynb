{
 "cells": [
  {
   "cell_type": "markdown",
   "metadata": {},
   "source": [
    "<img align=\"left\" src=\"https://lever-client-logos.s3.amazonaws.com/864372b1-534c-480e-acd5-9711f850815c-1524247202159.png\" width=200>\n",
    "<br></br>\n",
    "<br></br>\n",
    "\n",
    "# Natural Language Processing (NLP)\n",
    "## *Data Science Unit 4 Sprint 1 Assignment 1*\n",
    "\n",
    "Your goal in this assignment: find the attributes of the best & worst coffee shops in the dataset. The text is fairly raw: dates in the review, extra words in the `star_rating` column, etc. You'll probably want to clean that stuff up for a better analysis. \n",
    "\n",
    "Analyze the corpus of text using text visualizations of token frequency. Try cleaning the data as much as possible. Try the following techniques: \n",
    "- Lemmatization\n",
    "- Custom stopword removal\n",
    "\n",
    "Keep in mind the attributes of good tokens. Once you have a solid baseline, layer in the star rating in your visualization(s). Key part of this assignment - produce a write-up of the attributes of the best and worst coffee shops. Based on your analysis, what makes the best the best and the worst the worst. Use graphs and numbesr from your analysis to support your conclusions. There should be plenty of markdown cells! :coffee:"
   ]
  },
  {
   "cell_type": "code",
   "execution_count": 1,
   "metadata": {},
   "outputs": [
    {
     "data": {
      "text/plain": [
       "'/Users/danielfernandez/Documents/Github-Proj/DS-Unit-4-Sprint-1-NLP/module1-text-data'"
      ]
     },
     "execution_count": 1,
     "metadata": {},
     "output_type": "execute_result"
    }
   ],
   "source": [
    "%pwd"
   ]
  },
  {
   "cell_type": "code",
   "execution_count": 2,
   "metadata": {},
   "outputs": [
    {
     "data": {
      "text/html": [
       "<div>\n",
       "<style scoped>\n",
       "    .dataframe tbody tr th:only-of-type {\n",
       "        vertical-align: middle;\n",
       "    }\n",
       "\n",
       "    .dataframe tbody tr th {\n",
       "        vertical-align: top;\n",
       "    }\n",
       "\n",
       "    .dataframe thead th {\n",
       "        text-align: right;\n",
       "    }\n",
       "</style>\n",
       "<table border=\"1\" class=\"dataframe\">\n",
       "  <thead>\n",
       "    <tr style=\"text-align: right;\">\n",
       "      <th></th>\n",
       "      <th>coffee_shop_name</th>\n",
       "      <th>full_review_text</th>\n",
       "      <th>star_rating</th>\n",
       "    </tr>\n",
       "  </thead>\n",
       "  <tbody>\n",
       "    <tr>\n",
       "      <th>7606</th>\n",
       "      <td>The Steeping Room</td>\n",
       "      <td>6/11/2015 Same great tea and food as their Do...</td>\n",
       "      <td>4.0 star rating</td>\n",
       "    </tr>\n",
       "    <tr>\n",
       "      <th>7607</th>\n",
       "      <td>The Steeping Room</td>\n",
       "      <td>8/14/2015 This place is amazing! It's one of ...</td>\n",
       "      <td>5.0 star rating</td>\n",
       "    </tr>\n",
       "    <tr>\n",
       "      <th>7608</th>\n",
       "      <td>The Steeping Room</td>\n",
       "      <td>9/20/2015 I come here when I visit my friend ...</td>\n",
       "      <td>4.0 star rating</td>\n",
       "    </tr>\n",
       "    <tr>\n",
       "      <th>7609</th>\n",
       "      <td>The Steeping Room</td>\n",
       "      <td>12/7/2014 1 check-in After noticing many frie...</td>\n",
       "      <td>4.0 star rating</td>\n",
       "    </tr>\n",
       "    <tr>\n",
       "      <th>7610</th>\n",
       "      <td>The Steeping Room</td>\n",
       "      <td>3/1/2016 Great food! I haven't had a meal I d...</td>\n",
       "      <td>5.0 star rating</td>\n",
       "    </tr>\n",
       "    <tr>\n",
       "      <th>7611</th>\n",
       "      <td>The Steeping Room</td>\n",
       "      <td>2/19/2015 I actually step into this restauran...</td>\n",
       "      <td>4.0 star rating</td>\n",
       "    </tr>\n",
       "    <tr>\n",
       "      <th>7612</th>\n",
       "      <td>The Steeping Room</td>\n",
       "      <td>1/21/2016 Ok, The Steeping Room IS awesome. H...</td>\n",
       "      <td>5.0 star rating</td>\n",
       "    </tr>\n",
       "    <tr>\n",
       "      <th>7613</th>\n",
       "      <td>The Steeping Room</td>\n",
       "      <td>4/30/2015 Loved coming here for tea, and the ...</td>\n",
       "      <td>4.0 star rating</td>\n",
       "    </tr>\n",
       "    <tr>\n",
       "      <th>7614</th>\n",
       "      <td>The Steeping Room</td>\n",
       "      <td>8/2/2015 The food is just average. The booths...</td>\n",
       "      <td>3.0 star rating</td>\n",
       "    </tr>\n",
       "    <tr>\n",
       "      <th>7615</th>\n",
       "      <td>The Steeping Room</td>\n",
       "      <td>5/23/2015 I finally stopped in for lunch with...</td>\n",
       "      <td>4.0 star rating</td>\n",
       "    </tr>\n",
       "  </tbody>\n",
       "</table>\n",
       "</div>"
      ],
      "text/plain": [
       "        coffee_shop_name                                   full_review_text  \\\n",
       "7606  The Steeping Room    6/11/2015 Same great tea and food as their Do...   \n",
       "7607  The Steeping Room    8/14/2015 This place is amazing! It's one of ...   \n",
       "7608  The Steeping Room    9/20/2015 I come here when I visit my friend ...   \n",
       "7609  The Steeping Room    12/7/2014 1 check-in After noticing many frie...   \n",
       "7610  The Steeping Room    3/1/2016 Great food! I haven't had a meal I d...   \n",
       "7611  The Steeping Room    2/19/2015 I actually step into this restauran...   \n",
       "7612  The Steeping Room    1/21/2016 Ok, The Steeping Room IS awesome. H...   \n",
       "7613  The Steeping Room    4/30/2015 Loved coming here for tea, and the ...   \n",
       "7614  The Steeping Room    8/2/2015 The food is just average. The booths...   \n",
       "7615  The Steeping Room    5/23/2015 I finally stopped in for lunch with...   \n",
       "\n",
       "            star_rating  \n",
       "7606   4.0 star rating   \n",
       "7607   5.0 star rating   \n",
       "7608   4.0 star rating   \n",
       "7609   4.0 star rating   \n",
       "7610   5.0 star rating   \n",
       "7611   4.0 star rating   \n",
       "7612   5.0 star rating   \n",
       "7613   4.0 star rating   \n",
       "7614   3.0 star rating   \n",
       "7615   4.0 star rating   "
      ]
     },
     "execution_count": 2,
     "metadata": {},
     "output_type": "execute_result"
    }
   ],
   "source": [
    "import pandas as pd\n",
    "\n",
    "url = \"https://raw.githubusercontent.com/LambdaSchool/DS-Unit-4-Sprint-1-NLP/main/module1-text-data/data/yelp_coffeeshop_review_data.csv\"\n",
    "\n",
    "shops = pd.read_csv(url)\n",
    "shops.tail(10)"
   ]
  },
  {
   "cell_type": "code",
   "execution_count": 3,
   "metadata": {},
   "outputs": [
    {
     "name": "stdout",
     "output_type": "stream",
     "text": [
      "Collecting en_core_web_lg==2.2.5\n",
      "  Downloading https://github.com/explosion/spacy-models/releases/download/en_core_web_lg-2.2.5/en_core_web_lg-2.2.5.tar.gz (827.9 MB)\n",
      "\u001b[K     |████████████████████████████████| 827.9 MB 9.7 MB/s eta 0:00:012\n",
      "\u001b[?25hRequirement already satisfied: spacy>=2.2.2 in /Users/danielfernandez/Documents/Github-Proj/DS-Unit-4-Sprint-1-NLP/venv/lib/python3.8/site-packages (from en_core_web_lg==2.2.5) (2.2.3)\n",
      "Requirement already satisfied: murmurhash<1.1.0,>=0.28.0 in /Users/danielfernandez/Documents/Github-Proj/DS-Unit-4-Sprint-1-NLP/venv/lib/python3.8/site-packages (from spacy>=2.2.2->en_core_web_lg==2.2.5) (1.0.5)\n",
      "Requirement already satisfied: thinc<7.4.0,>=7.3.0 in /Users/danielfernandez/Documents/Github-Proj/DS-Unit-4-Sprint-1-NLP/venv/lib/python3.8/site-packages (from spacy>=2.2.2->en_core_web_lg==2.2.5) (7.3.1)\n",
      "Requirement already satisfied: srsly<1.1.0,>=0.1.0 in /Users/danielfernandez/Documents/Github-Proj/DS-Unit-4-Sprint-1-NLP/venv/lib/python3.8/site-packages (from spacy>=2.2.2->en_core_web_lg==2.2.5) (1.0.5)\n",
      "Requirement already satisfied: wasabi<1.1.0,>=0.4.0 in /Users/danielfernandez/Documents/Github-Proj/DS-Unit-4-Sprint-1-NLP/venv/lib/python3.8/site-packages (from spacy>=2.2.2->en_core_web_lg==2.2.5) (0.8.2)\n",
      "Requirement already satisfied: numpy>=1.15.0 in /Users/danielfernandez/Documents/Github-Proj/DS-Unit-4-Sprint-1-NLP/venv/lib/python3.8/site-packages (from spacy>=2.2.2->en_core_web_lg==2.2.5) (1.20.1)\n",
      "Requirement already satisfied: requests<3.0.0,>=2.13.0 in /Users/danielfernandez/Documents/Github-Proj/DS-Unit-4-Sprint-1-NLP/venv/lib/python3.8/site-packages (from spacy>=2.2.2->en_core_web_lg==2.2.5) (2.25.1)\n",
      "Requirement already satisfied: plac<1.2.0,>=0.9.6 in /Users/danielfernandez/Documents/Github-Proj/DS-Unit-4-Sprint-1-NLP/venv/lib/python3.8/site-packages (from spacy>=2.2.2->en_core_web_lg==2.2.5) (1.1.3)\n",
      "Requirement already satisfied: catalogue<1.1.0,>=0.0.7 in /Users/danielfernandez/Documents/Github-Proj/DS-Unit-4-Sprint-1-NLP/venv/lib/python3.8/site-packages (from spacy>=2.2.2->en_core_web_lg==2.2.5) (1.0.0)\n",
      "Requirement already satisfied: blis<0.5.0,>=0.4.0 in /Users/danielfernandez/Documents/Github-Proj/DS-Unit-4-Sprint-1-NLP/venv/lib/python3.8/site-packages (from spacy>=2.2.2->en_core_web_lg==2.2.5) (0.4.1)\n",
      "Requirement already satisfied: preshed<3.1.0,>=3.0.2 in /Users/danielfernandez/Documents/Github-Proj/DS-Unit-4-Sprint-1-NLP/venv/lib/python3.8/site-packages (from spacy>=2.2.2->en_core_web_lg==2.2.5) (3.0.5)\n",
      "Requirement already satisfied: cymem<2.1.0,>=2.0.2 in /Users/danielfernandez/Documents/Github-Proj/DS-Unit-4-Sprint-1-NLP/venv/lib/python3.8/site-packages (from spacy>=2.2.2->en_core_web_lg==2.2.5) (2.0.5)\n",
      "Requirement already satisfied: setuptools in /Users/danielfernandez/Documents/Github-Proj/DS-Unit-4-Sprint-1-NLP/venv/lib/python3.8/site-packages (from spacy>=2.2.2->en_core_web_lg==2.2.5) (53.0.0)\n",
      "Requirement already satisfied: urllib3<1.27,>=1.21.1 in /Users/danielfernandez/Documents/Github-Proj/DS-Unit-4-Sprint-1-NLP/venv/lib/python3.8/site-packages (from requests<3.0.0,>=2.13.0->spacy>=2.2.2->en_core_web_lg==2.2.5) (1.26.3)\n",
      "Requirement already satisfied: certifi>=2017.4.17 in /Users/danielfernandez/Documents/Github-Proj/DS-Unit-4-Sprint-1-NLP/venv/lib/python3.8/site-packages (from requests<3.0.0,>=2.13.0->spacy>=2.2.2->en_core_web_lg==2.2.5) (2020.12.5)\n",
      "Requirement already satisfied: idna<3,>=2.5 in /Users/danielfernandez/Documents/Github-Proj/DS-Unit-4-Sprint-1-NLP/venv/lib/python3.8/site-packages (from requests<3.0.0,>=2.13.0->spacy>=2.2.2->en_core_web_lg==2.2.5) (2.10)\n",
      "Requirement already satisfied: chardet<5,>=3.0.2 in /Users/danielfernandez/Documents/Github-Proj/DS-Unit-4-Sprint-1-NLP/venv/lib/python3.8/site-packages (from requests<3.0.0,>=2.13.0->spacy>=2.2.2->en_core_web_lg==2.2.5) (4.0.0)\n",
      "Requirement already satisfied: tqdm<5.0.0,>=4.10.0 in /Users/danielfernandez/Documents/Github-Proj/DS-Unit-4-Sprint-1-NLP/venv/lib/python3.8/site-packages (from thinc<7.4.0,>=7.3.0->spacy>=2.2.2->en_core_web_lg==2.2.5) (4.56.0)\n",
      "\u001b[38;5;2m✔ Download and installation successful\u001b[0m\n",
      "You can now load the model via spacy.load('en_core_web_lg')\n"
     ]
    }
   ],
   "source": [
    "# Import statements\n",
    "\n",
    "import re\n",
    "import spacy\n",
    "import squarify\n",
    "import seaborn as sns\n",
    "from collections import Counter\n",
    "import matplotlib.pyplot as plt\n",
    "\n",
    "# Spacy Model\n",
    "!python -m spacy download en_core_web_lg\n",
    "nlp = spacy.load('en_core_web_lg')"
   ]
  },
  {
   "cell_type": "code",
   "execution_count": 4,
   "metadata": {},
   "outputs": [
    {
     "data": {
      "text/plain": [
       "\" 11/20/2016 1 check-in Very cute cafe! I think from the moment I stepped in, there really wasn't anything I didn't find cute at The Factory. From their decor to their cups, everything was really cute. It's really the perfect place for a catching up with friends or a coffee date.  When you go order, there's really the least amount of interaction ever with the workers. You just pick your order on an iPad and they'll call your order out after for you to pick up at the counter. The whole thing's pretty novel honestly. I got the Viva Matcha Latte and it was so good! Perfect amount of sweetness and perfect temperature. I went on a cold night and this cafe is just so cozy, it was such a great combination. They have these swings as well which were pretty fun to sit on honestly.  Prices are what I would expect for a cafe like this, not super cheap, but not too pricey. There's no wifi here, so if you want to study, maybe this isn't the right place. But overall, very nice atmosphere! Viva matcha latte and Cortado \""
      ]
     },
     "execution_count": 4,
     "metadata": {},
     "output_type": "execute_result"
    }
   ],
   "source": [
    "# shops['full_review_text'][5]"
   ]
  },
  {
   "cell_type": "code",
   "execution_count": 5,
   "metadata": {},
   "outputs": [
    {
     "data": {
      "text/plain": [
       "array([' 5.0 star rating ', ' 4.0 star rating ', ' 2.0 star rating ',\n",
       "       ' 3.0 star rating ', ' 1.0 star rating '], dtype=object)"
      ]
     },
     "execution_count": 5,
     "metadata": {},
     "output_type": "execute_result"
    }
   ],
   "source": [
    "# Observing star rating formatting\n",
    "    # star_rating\n",
    "    # \t4.0 star rating\n",
    "pd.unique(shops['star_rating'])"
   ]
  },
  {
   "cell_type": "code",
   "execution_count": 6,
   "metadata": {},
   "outputs": [],
   "source": [
    "def tokenize(raw, col):\n",
    "    token_list = []\n",
    "    regx_txt_date = '(\\d{1}[\\/-]\\d{1}[\\/-]\\d{4}|\\d{2}[\\/-]\\d{2}[\\/-]\\d{4})([^a-zA-Z 0-9])'    \n",
    "    for row in raw[col]:\n",
    "        # Remove non-alphanumeric char and dates, then lower\n",
    "        text = re.sub(regx_txt_date, '', clean_0)\n",
    "        text = text.lower()\n",
    "\n",
    "        tokens = text.split(\" \")\n",
    "        token_list.append(tokens)\n",
    "    \n",
    "    return token_list"
   ]
  },
  {
   "cell_type": "code",
   "execution_count": 7,
   "metadata": {},
   "outputs": [],
   "source": [
    "def tokenize_df(raw):\n",
    "    \"\"\"\n",
    "    Remove dates, non-alphanumeric chars and empty strings from row.\n",
    "    Use with `df.row.apply(lambda x: function(x))`.\n",
    "    \n",
    "    Input: String\n",
    "    \n",
    "    :Output: List\n",
    "    \"\"\"\n",
    "    # Remove dates (1/1/1111 or 01/01/1111) and non-alphanum\n",
    "    regx_txt_date = '\\d{1}[\\/-]\\d{1}[\\/-]\\d{4}|\\d{2}[\\/-]\\d{2}[\\/-]\\d{4}'\n",
    "    text_0 = re.sub(regx_txt_date, '', raw)\n",
    "    text = re.sub('[^a-zA-Z 0-9]', '', text_0)\n",
    "    \n",
    "    # Lowercase tokens and split\n",
    "    text = text.lower()\n",
    "    # Remove--pesky--empty strings\n",
    "    tokens = list(filter(None, text.split(\" \")))\n",
    "    \n",
    "    return tokens"
   ]
  },
  {
   "cell_type": "code",
   "execution_count": 8,
   "metadata": {
    "scrolled": true
   },
   "outputs": [],
   "source": [
    "# Clean star_rating\n",
    "def comet(tail):\n",
    "    return int(re.sub('[^1-5]', '', tail))\n",
    "\n",
    "shops['star_rating_int']= shops['star_rating'].apply(lambda tail: comet(tail))"
   ]
  },
  {
   "cell_type": "code",
   "execution_count": 9,
   "metadata": {
    "scrolled": true
   },
   "outputs": [
    {
     "data": {
      "text/plain": [
       "[('the', 34809),\n",
       " ('and', 26650),\n",
       " ('a', 22755),\n",
       " ('i', 20237),\n",
       " ('to', 17164),\n",
       " ('of', 12600),\n",
       " ('is', 11999),\n",
       " ('coffee', 10353),\n",
       " ('was', 9707),\n",
       " ('in', 9546)]"
      ]
     },
     "execution_count": 9,
     "metadata": {},
     "output_type": "execute_result"
    }
   ],
   "source": [
    "wrd_cnt = Counter()\n",
    "shops['tokens'] = shops['full_review_text'].apply(lambda text: tokenize_df(text))\n",
    "shops['tokens'].apply(lambda token: wrd_cnt.update(token))\n",
    "wrd_cnt.most_common(10)"
   ]
  },
  {
   "cell_type": "code",
   "execution_count": 21,
   "metadata": {},
   "outputs": [],
   "source": [
    "# Use Spacy to tokenize and remove stop words\n",
    "def space_token(df, col):\n",
    "    cpy_df = df.copy()\n",
    "    tokens_space = []\n",
    "    for doc in nlp.pipe(cpy_df[col]):\n",
    "        doc_tokens = []\n",
    "        for t in doc:\n",
    "            if (t.is_stop == False) & (t.is_digit == False) & (t.is_oov == False):\n",
    "                doc_tokens.append(t.text.lower())\n",
    "        tokens_space.append(doc_tokens)\n",
    "    cpy_df['tokens_spacy'] = tokens_space\n",
    "    return cpy_df\n",
    "        "
   ]
  },
  {
   "cell_type": "code",
   "execution_count": 22,
   "metadata": {},
   "outputs": [
    {
     "data": {
      "text/html": [
       "<div>\n",
       "<style scoped>\n",
       "    .dataframe tbody tr th:only-of-type {\n",
       "        vertical-align: middle;\n",
       "    }\n",
       "\n",
       "    .dataframe tbody tr th {\n",
       "        vertical-align: top;\n",
       "    }\n",
       "\n",
       "    .dataframe thead th {\n",
       "        text-align: right;\n",
       "    }\n",
       "</style>\n",
       "<table border=\"1\" class=\"dataframe\">\n",
       "  <thead>\n",
       "    <tr style=\"text-align: right;\">\n",
       "      <th></th>\n",
       "      <th>coffee_shop_name</th>\n",
       "      <th>full_review_text</th>\n",
       "      <th>star_rating</th>\n",
       "      <th>star_rating_int</th>\n",
       "      <th>tokens</th>\n",
       "      <th>tokens_spacy</th>\n",
       "    </tr>\n",
       "  </thead>\n",
       "  <tbody>\n",
       "    <tr>\n",
       "      <th>0</th>\n",
       "      <td>The Factory - Cafe With a Soul</td>\n",
       "      <td>11/25/2016 1 check-in Love love loved the atm...</td>\n",
       "      <td>5.0 star rating</td>\n",
       "      <td>5</td>\n",
       "      <td>[1, checkin, love, love, loved, the, atmospher...</td>\n",
       "      <td>[ , check, -, love, love, loved, atmosphere, !...</td>\n",
       "    </tr>\n",
       "    <tr>\n",
       "      <th>1</th>\n",
       "      <td>The Factory - Cafe With a Soul</td>\n",
       "      <td>12/2/2016 Listed in Date Night: Austin, Ambia...</td>\n",
       "      <td>4.0 star rating</td>\n",
       "      <td>4</td>\n",
       "      <td>[1, listed, in, date, night, austin, ambiance,...</td>\n",
       "      <td>[ , listed, date, night, :, austin, ,, ambianc...</td>\n",
       "    </tr>\n",
       "    <tr>\n",
       "      <th>2</th>\n",
       "      <td>The Factory - Cafe With a Soul</td>\n",
       "      <td>11/30/2016 1 check-in Listed in Brunch Spots ...</td>\n",
       "      <td>4.0 star rating</td>\n",
       "      <td>4</td>\n",
       "      <td>[1, checkin, listed, in, brunch, spots, i, lov...</td>\n",
       "      <td>[ , check, -, listed, brunch, spots, loved, ec...</td>\n",
       "    </tr>\n",
       "    <tr>\n",
       "      <th>3</th>\n",
       "      <td>The Factory - Cafe With a Soul</td>\n",
       "      <td>11/25/2016 Very cool decor! Good drinks Nice ...</td>\n",
       "      <td>2.0 star rating</td>\n",
       "      <td>2</td>\n",
       "      <td>[very, cool, decor, good, drinks, nice, seatin...</td>\n",
       "      <td>[ , cool, decor, !, good, drinks, nice, seatin...</td>\n",
       "    </tr>\n",
       "  </tbody>\n",
       "</table>\n",
       "</div>"
      ],
      "text/plain": [
       "                  coffee_shop_name  \\\n",
       "0  The Factory - Cafe With a Soul    \n",
       "1  The Factory - Cafe With a Soul    \n",
       "2  The Factory - Cafe With a Soul    \n",
       "3  The Factory - Cafe With a Soul    \n",
       "\n",
       "                                    full_review_text        star_rating  \\\n",
       "0   11/25/2016 1 check-in Love love loved the atm...   5.0 star rating    \n",
       "1   12/2/2016 Listed in Date Night: Austin, Ambia...   4.0 star rating    \n",
       "2   11/30/2016 1 check-in Listed in Brunch Spots ...   4.0 star rating    \n",
       "3   11/25/2016 Very cool decor! Good drinks Nice ...   2.0 star rating    \n",
       "\n",
       "   star_rating_int                                             tokens  \\\n",
       "0                5  [1, checkin, love, love, loved, the, atmospher...   \n",
       "1                4  [1, listed, in, date, night, austin, ambiance,...   \n",
       "2                4  [1, checkin, listed, in, brunch, spots, i, lov...   \n",
       "3                2  [very, cool, decor, good, drinks, nice, seatin...   \n",
       "\n",
       "                                        tokens_spacy  \n",
       "0  [ , check, -, love, love, loved, atmosphere, !...  \n",
       "1  [ , listed, date, night, :, austin, ,, ambianc...  \n",
       "2  [ , check, -, listed, brunch, spots, loved, ec...  \n",
       "3  [ , cool, decor, !, good, drinks, nice, seatin...  "
      ]
     },
     "execution_count": 22,
     "metadata": {},
     "output_type": "execute_result"
    }
   ],
   "source": [
    "test = space_token(shops, 'full_review_text')\n",
    "test.head(4)"
   ]
  },
  {
   "cell_type": "markdown",
   "metadata": {},
   "source": [
    "## How do we want to analyze these coffee shop tokens? \n",
    "\n",
    "- Overall Word / Token Count\n",
    "- View Counts by Rating \n",
    "- *Hint:* a 'bad' coffee shops has a rating betweeen 1 & 3 based on the distribution of ratings. A 'good' coffee shop is a 4 or 5. "
   ]
  },
  {
   "cell_type": "code",
   "execution_count": null,
   "metadata": {},
   "outputs": [],
   "source": []
  },
  {
   "cell_type": "markdown",
   "metadata": {},
   "source": [
    "## Can visualize the words with the greatest difference in counts between 'good' & 'bad'?\n",
    "\n",
    "Couple Notes: \n",
    "- Rel. freq. instead of absolute counts b/c of different numbers of reviews\n",
    "- Only look at the top 5-10 words with the greatest differences\n"
   ]
  },
  {
   "cell_type": "code",
   "execution_count": null,
   "metadata": {},
   "outputs": [],
   "source": []
  },
  {
   "cell_type": "markdown",
   "metadata": {
    "colab_type": "text",
    "id": "1dCb1q8XphcP",
    "toc-hr-collapsed": true
   },
   "source": [
    "## Stretch Goals\n",
    "\n",
    "* Analyze another corpus of documents - such as Indeed.com job listings ;).\n",
    "* Play with the Spacy API to\n",
    " - Extract Named Entities\n",
    " - Extracting 'noun chunks'\n",
    " - Attempt Document Classification with just Spacy\n",
    " - *Note:* This [course](https://course.spacy.io/) will be of interesting in helping you with these stretch goals. \n",
    "* Try to build a plotly dash app with your text data \n",
    "\n"
   ]
  }
 ],
 "metadata": {
  "colab": {
   "collapsed_sections": [],
   "name": "LS_DS_421_Text_Data_Assignment.ipynb",
   "provenance": [],
   "version": "0.3.2"
  },
  "kernelspec": {
   "display_name": "Python 3",
   "language": "python",
   "name": "python3"
  },
  "language_info": {
   "codemirror_mode": {
    "name": "ipython",
    "version": 3
   },
   "file_extension": ".py",
   "mimetype": "text/x-python",
   "name": "python",
   "nbconvert_exporter": "python",
   "pygments_lexer": "ipython3",
   "version": "3.8.3"
  },
  "toc-autonumbering": false
 },
 "nbformat": 4,
 "nbformat_minor": 4
}
